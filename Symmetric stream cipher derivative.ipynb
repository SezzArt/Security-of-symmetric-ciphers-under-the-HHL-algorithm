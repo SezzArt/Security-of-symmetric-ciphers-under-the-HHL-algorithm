{
 "cells": [
  {
   "cell_type": "code",
   "execution_count": 1,
   "id": "e77bf207",
   "metadata": {},
   "outputs": [],
   "source": [
    "from Crypto.Cipher import Salsa20\n",
    "from scipy import stats\n",
    "import random\n",
    "from numpy.random import Generator\n",
    "from randomgen import HC128\n",
    "from pytrivium import Trivium\n",
    "\n",
    "def bitstring_to_bytes(s):\n",
    "    v = int(\"1\"+s, 2)\n",
    "    b = bytearray()\n",
    "    while v:\n",
    "        b.append(v & 0xff)\n",
    "        v >>= 8\n",
    "    b.pop()\n",
    "    return bytes(b[::-1])\n",
    "\n",
    "def byte_xor(ba1, ba2):\n",
    "    return bytes([_a ^ _b for _a, _b in zip(ba1, ba2)])\n",
    "\n",
    "def generate_binary_string(n):\n",
    "    return ''.join(str(random.randint(0, 1)) for _ in range(n))"
   ]
  },
  {
   "cell_type": "code",
   "execution_count": 2,
   "id": "bca70020",
   "metadata": {},
   "outputs": [],
   "source": [
    "key_length=128\n",
    "# The plaintext should consist of pure 0s to retrieve the keystream\n",
    "plaintext = bitstring_to_bytes(\"00000000000000000000000000000000000000000000000000000000000000000000000000000000000000000000000000000000000000000000000000000000\")\n",
    "# We want to keep the nonce constant so that no additional paramethers are introduced\n",
    "nonce_string = \"0000000000000000000000000000000000000000000000000000000000000000\"\n",
    "nonce = bitstring_to_bytes(nonce_string)"
   ]
  },
  {
   "cell_type": "code",
   "execution_count": 3,
   "id": "b2572be1",
   "metadata": {
    "scrolled": true
   },
   "outputs": [],
   "source": [
    "def compute_higher_order_derivative(cipher_name = \"salsa\", order=20):\n",
    "    starting_string=generate_binary_string(key_length-order)\n",
    "    sum_string=bitstring_to_bytes(\"\".zfill(key_length))\n",
    "    for i in range(2**order):\n",
    "        binary_ending = f'{i:0{order}b}'\n",
    "        secret = bitstring_to_bytes(starting_string+binary_ending)\n",
    "        if cipher_name == \"salsa\":\n",
    "            cipher = Salsa20.new(key=secret,nonce=nonce)\n",
    "            msg =  cipher.encrypt(plaintext)\n",
    "        elif cipher_name == \"hc128\":\n",
    "            # The key is a 256-bit integer that contains both the key (lower 128 bits) and initial values (upper 128-bits) for the HC-128 cipher\n",
    "            seed = nonce_string+nonce_string\n",
    "            hc_key = int(seed+starting_string+binary_ending, 2)\n",
    "            hc128 = HC128(key=hc_key)\n",
    "            gen = Generator(hc128)\n",
    "            msg = gen.bytes(16)\n",
    "        elif cipher_name == \"trivium\":\n",
    "            trivium = Trivium()\n",
    "            iv = [0x00,0x00,0x00,0x00,0x00,0x00,0x00,0x00,0x00,0x00]\n",
    "            # Key length for trivium is 80 bits so we skip the first 6 bytes\n",
    "            key=secret[6:]\n",
    "            trivium.initialize(key,iv)\n",
    "            trivium.update(16)\n",
    "            output = trivium.finalize()\n",
    "            pad=\"\"\n",
    "            for i in output:\n",
    "                pad += \"{:08b}\".format(i)\n",
    "            msg = bitstring_to_bytes(pad)\n",
    "        else:\n",
    "            raise ValueError(\"not a supported cipher\")\n",
    "        sum_string = byte_xor(sum_string, msg)\n",
    "    #print(sum_string)\n",
    "    binary_string = \"{:08b}\".format(int(sum_string.hex(),16))\n",
    "    #print(binary_string)\n",
    "    #print(\"hamming weight is: \"+str(binary_string.count('1')/len(binary_string)))\n",
    "    \n",
    "    return binary_string"
   ]
  },
  {
   "cell_type": "code",
   "execution_count": 5,
   "id": "cc579006",
   "metadata": {},
   "outputs": [
    {
     "name": "stdout",
     "output_type": "stream",
     "text": [
      "0\n",
      "1\n",
      "2\n",
      "3\n",
      "4\n",
      "5\n",
      "6\n",
      "7\n",
      "8\n",
      "9\n",
      "10\n",
      "11\n",
      "12\n",
      "13\n",
      "14\n",
      "15\n",
      "16\n",
      "17\n",
      "18\n",
      "19\n"
     ]
    },
    {
     "data": {
      "text/plain": [
       "Power_divergenceResult(statistic=9.830721003134796, pvalue=0.956998601706501)"
      ]
     },
     "execution_count": 5,
     "metadata": {},
     "output_type": "execute_result"
    }
   ],
   "source": [
    "results = []\n",
    "# Number of samples for chi-squared test is recommended to be greater than 13\n",
    "for i in range(20):\n",
    "    results.append(compute_higher_order_derivative(cipher_name=\"trivium\",order = 25))\n",
    "hamming_weights=map(lambda x:x.count('1'),results)\n",
    "stats.chisquare(list(hamming_weights))"
   ]
  },
  {
   "cell_type": "code",
   "execution_count": 7,
   "id": "82072971",
   "metadata": {},
   "outputs": [
    {
     "name": "stdout",
     "output_type": "stream",
     "text": [
      "0\n",
      "1\n",
      "2\n",
      "3\n",
      "4\n",
      "5\n",
      "6\n",
      "7\n",
      "8\n",
      "9\n",
      "10\n",
      "11\n",
      "12\n",
      "13\n",
      "14\n",
      "15\n",
      "16\n",
      "17\n",
      "18\n",
      "19\n"
     ]
    },
    {
     "data": {
      "text/plain": [
       "Power_divergenceResult(statistic=10.139904610492849, pvalue=0.9494097592189479)"
      ]
     },
     "execution_count": 7,
     "metadata": {},
     "output_type": "execute_result"
    }
   ],
   "source": [
    "results = []\n",
    "# Number of samples for chi-squared test is recommended to be greater than 13\n",
    "for i in range(20):\n",
    "    results.append(compute_higher_order_derivative(cipher_name=\"salsa\",order = 25))\n",
    "hamming_weights=map(lambda x:x.count('1'),results)\n",
    "stats.chisquare(list(hamming_weights))"
   ]
  },
  {
   "cell_type": "code",
   "execution_count": 9,
   "id": "62b87d80",
   "metadata": {},
   "outputs": [
    {
     "name": "stdout",
     "output_type": "stream",
     "text": [
      "0\n",
      "1\n",
      "2\n",
      "3\n",
      "4\n",
      "5\n",
      "6\n",
      "7\n",
      "8\n",
      "9\n",
      "10\n",
      "11\n",
      "12\n",
      "13\n",
      "14\n",
      "15\n",
      "16\n",
      "17\n",
      "18\n",
      "19\n"
     ]
    },
    {
     "data": {
      "text/plain": [
       "Power_divergenceResult(statistic=9.87692307692308, pvalue=0.9559167318711057)"
      ]
     },
     "execution_count": 9,
     "metadata": {},
     "output_type": "execute_result"
    }
   ],
   "source": [
    "results = []\n",
    "# Number of samples for chi-squared test is recommended to be greater than 13\n",
    "for i in range(20):\n",
    "    results.append(compute_higher_order_derivative(cipher_name=\"hc128\",order = 25))\n",
    "hamming_weights=map(lambda x:x.count('1'),results)\n",
    "stats.chisquare(list(hamming_weights))"
   ]
  },
  {
   "cell_type": "code",
   "execution_count": null,
   "id": "0b7436c5",
   "metadata": {},
   "outputs": [],
   "source": []
  }
 ],
 "metadata": {
  "kernelspec": {
   "display_name": "Python 3 (ipykernel)",
   "language": "python",
   "name": "python3"
  },
  "language_info": {
   "codemirror_mode": {
    "name": "ipython",
    "version": 3
   },
   "file_extension": ".py",
   "mimetype": "text/x-python",
   "name": "python",
   "nbconvert_exporter": "python",
   "pygments_lexer": "ipython3",
   "version": "3.9.12"
  }
 },
 "nbformat": 4,
 "nbformat_minor": 5
}
